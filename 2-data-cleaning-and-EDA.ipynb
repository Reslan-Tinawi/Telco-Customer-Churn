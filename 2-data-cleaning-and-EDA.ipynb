{
 "cells": [
  {
   "cell_type": "markdown",
   "metadata": {
    "heading_collapsed": "true"
   },
   "source": [
    "# Import libraries"
   ]
  },
  {
   "cell_type": "code",
   "execution_count": null,
   "metadata": {},
   "outputs": [],
   "source": [
    "import pandas as pd\n",
    "import numpy as np\n",
    "\n",
    "import plotly.express as px\n",
    "import seaborn as sns\n",
    "import matplotlib.pyplot as plt\n",
    "\n",
    "sns.set_style(\"ticks\")\n",
    "\n",
    "from cleaning_pipeline import *"
   ]
  },
  {
   "cell_type": "markdown",
   "metadata": {
    "heading_collapsed": "true"
   },
   "source": [
    "# Load data"
   ]
  },
  {
   "cell_type": "code",
   "execution_count": null,
   "metadata": {},
   "outputs": [],
   "source": [
    "df = pd.read_csv(\"data/WA_Fn-UseC_-Telco-Customer-Churn.csv\")"
   ]
  },
  {
   "cell_type": "code",
   "execution_count": null,
   "metadata": {},
   "outputs": [],
   "source": [
    "df.head()"
   ]
  },
  {
   "cell_type": "markdown",
   "metadata": {
    "heading_collapsed": "true"
   },
   "source": [
    "# Clean data"
   ]
  },
  {
   "cell_type": "code",
   "execution_count": null,
   "metadata": {},
   "outputs": [],
   "source": [
    "cleaned_df = (\n",
    "    df.pipe(start_pipeline)\n",
    "    .pipe(drop_noisy_columns, cols=[\"customerID\"])\n",
    "    .pipe(replace_empty_strings_with_nan)\n",
    ")"
   ]
  },
  {
   "cell_type": "code",
   "execution_count": null,
   "metadata": {},
   "outputs": [],
   "source": [
    "cleaned_df.head()"
   ]
  },
  {
   "cell_type": "markdown",
   "metadata": {},
   "source": [
    "Let's first investigate the missing values:"
   ]
  },
  {
   "cell_type": "code",
   "execution_count": null,
   "metadata": {},
   "outputs": [],
   "source": [
    "cleaned_df.isna().sum() / len(df)"
   ]
  },
  {
   "cell_type": "markdown",
   "metadata": {},
   "source": [
    "We can see that the percentage of missing values in the `TotalCharges` column is less than 1%, so we can drop all rows with missing values."
   ]
  },
  {
   "cell_type": "code",
   "execution_count": null,
   "metadata": {},
   "outputs": [],
   "source": [
    "cleaned_df = cleaned_df.pipe(drop_missing_values)"
   ]
  },
  {
   "cell_type": "code",
   "execution_count": null,
   "metadata": {},
   "outputs": [],
   "source": [
    "cleaned_df.head()"
   ]
  },
  {
   "cell_type": "markdown",
   "metadata": {},
   "source": [
    "Now we can convert each column to the appropriate `dtype`."
   ]
  },
  {
   "cell_type": "code",
   "execution_count": null,
   "metadata": {},
   "outputs": [],
   "source": [
    "cleaned_df = cleaned_df.pipe(\n",
    "    convert_column_dtypes, {\"SeniorCitizen\": \"str\", \"TotalCharges\": np.float}\n",
    ")"
   ]
  },
  {
   "cell_type": "code",
   "execution_count": null,
   "metadata": {},
   "outputs": [],
   "source": [
    "cleaned_df.head()"
   ]
  },
  {
   "cell_type": "code",
   "execution_count": null,
   "metadata": {},
   "outputs": [],
   "source": [
    "cleaned_df.dtypes"
   ]
  },
  {
   "cell_type": "markdown",
   "metadata": {},
   "source": [
    "Our final cleaning and processing **pipeline** should be:"
   ]
  },
  {
   "cell_type": "code",
   "execution_count": null,
   "metadata": {},
   "outputs": [],
   "source": [
    "cleaned_df = (\n",
    "    df.pipe(start_pipeline)\n",
    "    .pipe(drop_noisy_columns, cols=[\"customerID\"])\n",
    "    .pipe(replace_empty_strings_with_nan)\n",
    "    .pipe(drop_missing_values)\n",
    "    .pipe(map_column_values, col=\"SeniorCitizen\", mapping_dict={0: \"No\", 1: \"Yes\"})\n",
    "    .pipe(convert_column_dtypes, dtypes_mapping={\"TotalCharges\": np.float},)\n",
    ")"
   ]
  },
  {
   "cell_type": "code",
   "execution_count": null,
   "metadata": {},
   "outputs": [],
   "source": [
    "cleaned_df.head()"
   ]
  },
  {
   "cell_type": "markdown",
   "metadata": {
    "heading_collapsed": "true"
   },
   "source": [
    "# Exploratory Data Analysis"
   ]
  },
  {
   "cell_type": "markdown",
   "metadata": {},
   "source": [
    "In this section we'll explore the different variables in this dataset in order to understand what are the variable types? how do they interact with each other, and studying the realtions between the *predictor* variables and the *target* variable.\n",
    "\n",
    "According to the dataset author, the variables can be divided into three categories:\n",
    "- Customers demographic variables: demographic attributes of the customer.\n",
    "- Customer account variables: variables related to the customer account, such as the payment method, contract type, etc ...\n",
    "- Customer services variables: information about the services the customer is using."
   ]
  },
  {
   "cell_type": "code",
   "execution_count": null,
   "metadata": {},
   "outputs": [],
   "source": [
    "demographic_cols = [\n",
    "    \"gender\",\n",
    "    \"SeniorCitizen\",\n",
    "    \"Partner\",\n",
    "    \"Dependents\",\n",
    "]"
   ]
  },
  {
   "cell_type": "code",
   "execution_count": null,
   "metadata": {},
   "outputs": [],
   "source": [
    "account_cols = [\n",
    "    \"tenure\",\n",
    "    \"Contract\",\n",
    "    \"PaymentMethod\",\n",
    "    \"PaperlessBilling\",\n",
    "    \"MonthlyCharges\",\n",
    "    \"TotalCharges\",\n",
    "]"
   ]
  },
  {
   "cell_type": "code",
   "execution_count": null,
   "metadata": {},
   "outputs": [],
   "source": [
    "services_cols = [\n",
    "    \"PhoneService\",\n",
    "    \"MultipleLines\",\n",
    "    \"InternetService\",\n",
    "    \"OnlineSecurity\",\n",
    "    \"OnlineBackup\",\n",
    "    \"DeviceProtection\",\n",
    "    \"TechSupport\",\n",
    "    \"StreamingTV\",\n",
    "    \"StreamingMovies\",\n",
    "]"
   ]
  },
  {
   "cell_type": "code",
   "execution_count": null,
   "metadata": {},
   "outputs": [],
   "source": [
    "internet_service_cols = [\n",
    "    \"OnlineSecurity\",\n",
    "    \"OnlineBackup\",\n",
    "    \"DeviceProtection\",\n",
    "    \"TechSupport\",\n",
    "    \"StreamingTV\",\n",
    "    \"StreamingMovies\",\n",
    "]"
   ]
  },
  {
   "cell_type": "code",
   "execution_count": null,
   "metadata": {},
   "outputs": [],
   "source": [
    "color_map = {\"Yes\": \"#ef553b\", \"No\": \"#636efa\"}"
   ]
  },
  {
   "cell_type": "markdown",
   "metadata": {
    "heading_collapsed": "true"
   },
   "source": [
    "## Target variable"
   ]
  },
  {
   "cell_type": "markdown",
   "metadata": {},
   "source": [
    "We'll start our analysis with the target varible: `Churn`, to see how common is it that the customer leave the company."
   ]
  },
  {
   "cell_type": "code",
   "execution_count": null,
   "metadata": {},
   "outputs": [],
   "source": [
    "fig = px.histogram(\n",
    "    data_frame=cleaned_df, x=\"Churn\", color=\"Churn\", color_discrete_map=color_map,\n",
    ")\n",
    "\n",
    "fig.show()"
   ]
  },
  {
   "cell_type": "markdown",
   "metadata": {},
   "source": [
    "This chart shows that the data is *slightly* imbalanced, as the number of *churned* customers is relatively lower than those who didn't."
   ]
  },
  {
   "cell_type": "markdown",
   "metadata": {
    "heading_collapsed": "true"
   },
   "source": [
    "## Demographic attributes"
   ]
  },
  {
   "cell_type": "markdown",
   "metadata": {},
   "source": [
    "In this section, we'll focus on the demographic variables related to the customer, to understand how these variables relate to the customer leaving the company or not."
   ]
  },
  {
   "cell_type": "markdown",
   "metadata": {
    "heading_collapsed": "true"
   },
   "source": [
    "### `Gender`"
   ]
  },
  {
   "cell_type": "markdown",
   "metadata": {},
   "source": [
    "Does the customer's gender have any effect on churning?"
   ]
  },
  {
   "cell_type": "code",
   "execution_count": null,
   "metadata": {},
   "outputs": [],
   "source": [
    "fig = px.histogram(\n",
    "    data_frame=cleaned_df, x=\"gender\", color=\"Churn\", color_discrete_map=color_map\n",
    ")\n",
    "\n",
    "fig.update_xaxes(categoryorder=\"total descending\")\n",
    "\n",
    "fig.show()"
   ]
  },
  {
   "cell_type": "markdown",
   "metadata": {},
   "source": [
    "The customer's gender isn't predictive of churning, males and females are both likely the same to leave (or stay in) the company."
   ]
  },
  {
   "cell_type": "markdown",
   "metadata": {
    "heading_collapsed": "true"
   },
   "source": [
    "### `SeniorCitizen`"
   ]
  },
  {
   "cell_type": "markdown",
   "metadata": {},
   "source": [
    "*Senior citizens* are citizens who are retired and above the age of 60 or 65.\n",
    "\n",
    "Let's see if *older* customers prefer to keep using the company or not?"
   ]
  },
  {
   "cell_type": "code",
   "execution_count": null,
   "metadata": {},
   "outputs": [],
   "source": [
    "fig = px.histogram(\n",
    "    data_frame=cleaned_df,\n",
    "    x=\"SeniorCitizen\",\n",
    "    color=\"Churn\",\n",
    "    color_discrete_map=color_map,\n",
    ")\n",
    "\n",
    "fig.show()"
   ]
  },
  {
   "cell_type": "markdown",
   "metadata": {},
   "source": [
    "We can see that *old* customers resemble a very small fraction out of the total customers, and there's no strong indication that they leave the company."
   ]
  },
  {
   "cell_type": "markdown",
   "metadata": {
    "heading_collapsed": "true"
   },
   "source": [
    "### `Partner`"
   ]
  },
  {
   "cell_type": "markdown",
   "metadata": {},
   "source": [
    "The `Partner` variable states whether the customer has a partner or not. Does this variable affect the customer's decision in leaving the company? "
   ]
  },
  {
   "cell_type": "code",
   "execution_count": null,
   "metadata": {},
   "outputs": [],
   "source": [
    "fig = px.histogram(\n",
    "    data_frame=cleaned_df, x=\"Partner\", color=\"Churn\", color_discrete_map=color_map\n",
    ")\n",
    "\n",
    "fig.update_xaxes(categoryorder=\"total descending\")\n",
    "\n",
    "fig.show()"
   ]
  },
  {
   "cell_type": "markdown",
   "metadata": {},
   "source": [
    "From the chart we can see that the `Partner` variable is not predictive variable."
   ]
  },
  {
   "cell_type": "markdown",
   "metadata": {
    "heading_collapsed": "true"
   },
   "source": [
    "### `Dependents`"
   ]
  },
  {
   "cell_type": "markdown",
   "metadata": {},
   "source": [
    "The `Dependents` variable states whether the customer has dependents or not. A dependent is a person who relies on another as a primary source of income, for example, children.\n",
    "\n",
    "Do customers who have dependents (who need financial support from the *dependee*) are more likely to leave the company? perhaps for finding another company with lower costs."
   ]
  },
  {
   "cell_type": "code",
   "execution_count": null,
   "metadata": {},
   "outputs": [],
   "source": [
    "fig = px.histogram(\n",
    "    data_frame=cleaned_df, x=\"Dependents\", color=\"Churn\", color_discrete_map=color_map\n",
    ")\n",
    "\n",
    "fig.show()"
   ]
  },
  {
   "cell_type": "markdown",
   "metadata": {},
   "source": [
    "The chart shows that this variable has no influence on leaving the company."
   ]
  },
  {
   "cell_type": "markdown",
   "metadata": {
    "heading_collapsed": "true"
   },
   "source": [
    "## Account attributes"
   ]
  },
  {
   "cell_type": "markdown",
   "metadata": {},
   "source": [
    "This section will be devoted to explore the customer's account information, for example, for how long they've been customers for the company, their monthly and total charges, contract type, and payment method."
   ]
  },
  {
   "cell_type": "markdown",
   "metadata": {
    "heading_collapsed": "true"
   },
   "source": [
    "### `tenure`"
   ]
  },
  {
   "cell_type": "markdown",
   "metadata": {},
   "source": [
    "The `tenure` variable is a discrete numerical variable, representing the number of **months** the customer has stayed in the company.\n",
    "\n",
    "This variable is an important variable, as it should gives us insights on how th *customer churn rate* changes with respect to *customer tenure*."
   ]
  },
  {
   "cell_type": "code",
   "execution_count": null,
   "metadata": {},
   "outputs": [],
   "source": [
    "cleaned_df.tenure.head()"
   ]
  },
  {
   "cell_type": "code",
   "execution_count": null,
   "metadata": {},
   "outputs": [],
   "source": [
    "df.tenure.describe()"
   ]
  },
  {
   "cell_type": "code",
   "execution_count": null,
   "metadata": {},
   "outputs": [],
   "source": [
    "df.tenure.skew()"
   ]
  },
  {
   "cell_type": "markdown",
   "metadata": {},
   "source": [
    "First, let's plot the `tenure` variable alone, to see what distribution does it have?"
   ]
  },
  {
   "cell_type": "code",
   "execution_count": null,
   "metadata": {},
   "outputs": [],
   "source": [
    "fig = px.histogram(\n",
    "    data_frame=cleaned_df,\n",
    "    x=\"tenure\",\n",
    "    marginal=\"box\",\n",
    "    nbins=30,\n",
    "    title=\"Customer tenure distribution\",\n",
    ")\n",
    "\n",
    "fig.show()"
   ]
  },
  {
   "cell_type": "markdown",
   "metadata": {},
   "source": [
    "The variable has a positive skew, and a lot points are spreaded under 10 mont value. So we can say that a considerable portion of the customers are *new* customers, who have been in this company for about a year."
   ]
  },
  {
   "cell_type": "markdown",
   "metadata": {},
   "source": [
    "Now, let's plot this variable again, but this time highlighting the `Churn` variable with `tenure`."
   ]
  },
  {
   "cell_type": "code",
   "execution_count": null,
   "metadata": {},
   "outputs": [],
   "source": [
    "fig = px.histogram(\n",
    "    data_frame=cleaned_df,\n",
    "    x=\"tenure\",\n",
    "    color=\"Churn\",\n",
    "    barmode=\"group\",\n",
    "    marginal=\"box\",\n",
    "    color_discrete_map=color_map,\n",
    "    nbins=30,\n",
    "    title=\"Customer tenure distribution for <b>churning</b> and <b>non-churning</b> customers\",\n",
    ")\n",
    "\n",
    "fig.show()"
   ]
  },
  {
   "cell_type": "markdown",
   "metadata": {},
   "source": [
    "We can conclude from this plot some important insights:\n",
    "- New customers with about 1 year of tenure are the most likely to churn.\n",
    "- The chart also shows that the higher customer tenure is, the less likely is he to churn.\n",
    "- There are some extreme points (outliers) for the *churning* customers, where they have a very high tenure (almost 6 years), yet they churn from the company. These might be *outliers*, or this could be related to other factors."
   ]
  },
  {
   "cell_type": "markdown",
   "metadata": {
    "heading_collapsed": "true"
   },
   "source": [
    "### `MonthlyCharges`"
   ]
  },
  {
   "cell_type": "markdown",
   "metadata": {},
   "source": [
    "The `MonthlyCharges` variable is a discrete numerical variable, which represents the amount charged to customer every month.\n",
    "\n",
    "Analysing this variable should gives us a *clue* on how customer payments impact on the overall churt rate, and it would let us see how much customers pay every month on averag, does the payments distribution follow a *normal distribution*? and many other questions.\n",
    "\n",
    "**Note**: The unit of monthly charges wasn't mentioned in the dataset website."
   ]
  },
  {
   "cell_type": "code",
   "execution_count": null,
   "metadata": {},
   "outputs": [],
   "source": [
    "cleaned_df.MonthlyCharges.describe()"
   ]
  },
  {
   "cell_type": "code",
   "execution_count": null,
   "metadata": {},
   "outputs": [],
   "source": [
    "cleaned_df.MonthlyCharges.skew()"
   ]
  },
  {
   "cell_type": "code",
   "execution_count": null,
   "metadata": {},
   "outputs": [],
   "source": [
    "fig = px.histogram(\n",
    "    data_frame=cleaned_df,\n",
    "    x=\"MonthlyCharges\",\n",
    "    marginal=\"box\",\n",
    "    color=\"Churn\",\n",
    "    barmode=\"group\",\n",
    "    color_discrete_map=color_map,\n",
    "    nbins=20,\n",
    "    title=\"Monthly charges distribution for <b>churning</b> and <b>non-churning</b> customers\",\n",
    ")\n",
    "\n",
    "fig.show()"
   ]
  },
  {
   "cell_type": "markdown",
   "metadata": {},
   "source": [
    "We can from the chart that there are two peak values, about 500 customers pay between 10 and 20, and nearly 1000 customers pay between 20 and 30.\n",
    "\n",
    "This large number of customers paying low fees might be for paying some initial fees upon creating a contract with the company.\n",
    "\n",
    "Other than these peaks, we can also observe that higher monthly charges are linked with higher chaurn rate.\n",
    "\n",
    "The high charges could be explained by customers purchasing more *premium* services. The above chart suggests that these premium services could be causing customers dissatisfaction, which leads to leaving the company."
   ]
  },
  {
   "cell_type": "markdown",
   "metadata": {
    "heading_collapsed": "true"
   },
   "source": [
    "### `TotalCharges`"
   ]
  },
  {
   "cell_type": "markdown",
   "metadata": {},
   "source": [
    "The `TotalCharges` is similar to `MonthlyCharges`, it's a discrete numerical variable, which represents the total amount charged to customers."
   ]
  },
  {
   "cell_type": "code",
   "execution_count": null,
   "metadata": {},
   "outputs": [],
   "source": [
    "cleaned_df.TotalCharges.describe()"
   ]
  },
  {
   "cell_type": "code",
   "execution_count": null,
   "metadata": {},
   "outputs": [],
   "source": [
    "cleaned_df.TotalCharges.skew()"
   ]
  },
  {
   "cell_type": "code",
   "execution_count": null,
   "metadata": {},
   "outputs": [],
   "source": [
    "fig = px.histogram(\n",
    "    data_frame=cleaned_df,\n",
    "    x=\"TotalCharges\",\n",
    "    marginal=\"box\",\n",
    "    color=\"Churn\",\n",
    "    barmode=\"group\",\n",
    "    color_discrete_map=color_map,\n",
    "    nbins=30,\n",
    "    title=\"Total charges distribution for <b>churning</b> and <b>non-churning</b> customers\",\n",
    ")\n",
    "\n",
    "fig.show()"
   ]
  },
  {
   "cell_type": "markdown",
   "metadata": {},
   "source": [
    "This variable represents the cumulative charges paid by customers since they started using the company. A time-series variable would've been more helpful to analyse time-based patterns, and how total charges change from month to month, or from year to year."
   ]
  },
  {
   "cell_type": "markdown",
   "metadata": {
    "heading_collapsed": "true"
   },
   "source": [
    "### `Contract`"
   ]
  },
  {
   "cell_type": "markdown",
   "metadata": {},
   "source": [
    "The `Contract` variable is a categorical variable representing the contract term of the customer.\n",
    "\n",
    "Let's see whether the term of contract has any influence in staying or leaving the company."
   ]
  },
  {
   "cell_type": "code",
   "execution_count": null,
   "metadata": {},
   "outputs": [],
   "source": [
    "fig = px.histogram(\n",
    "    data_frame=cleaned_df,\n",
    "    x=\"Contract\",\n",
    "    color=\"Contract\",\n",
    "    title=\"Customer contract distribution\",\n",
    ")\n",
    "\n",
    "fig.update_xaxes(categoryorder=\"total descending\")\n",
    "\n",
    "fig.show()"
   ]
  },
  {
   "cell_type": "markdown",
   "metadata": {},
   "source": [
    "The majority of customers prefer *monthly* contracts, which probably require lower fees, and it's also favored by new customers.\n",
    "\n",
    "Let's see the relation between contract type and whether customer churn the company or not:"
   ]
  },
  {
   "cell_type": "code",
   "execution_count": null,
   "metadata": {},
   "outputs": [],
   "source": [
    "fig = px.histogram(\n",
    "    data_frame=cleaned_df,\n",
    "    x=\"Contract\",\n",
    "    color=\"Churn\",\n",
    "    barmode=\"group\",\n",
    "    color_discrete_map=color_map,\n",
    "    title=\"Customer contract distribution for <b>churning</b> and <b>non-churning</b> customers\",\n",
    ")\n",
    "\n",
    "fig.update_xaxes(categoryorder=\"total descending\")\n",
    "\n",
    "fig.show()"
   ]
  },
  {
   "cell_type": "markdown",
   "metadata": {},
   "source": [
    "This chart suggests that customers who use short term contracts are far more likely to leave the company."
   ]
  },
  {
   "cell_type": "markdown",
   "metadata": {
    "heading_collapsed": "true"
   },
   "source": [
    "### `PaymentMethod`"
   ]
  },
  {
   "cell_type": "markdown",
   "metadata": {},
   "source": [
    "This variable represents the customer's payment method."
   ]
  },
  {
   "cell_type": "code",
   "execution_count": null,
   "metadata": {},
   "outputs": [],
   "source": [
    "fig = px.histogram(\n",
    "    data_frame=cleaned_df,\n",
    "    x=\"PaymentMethod\",\n",
    "    color=\"PaymentMethod\",\n",
    "    title=\"Payment method distribution\",\n",
    ")\n",
    "\n",
    "fig.update_xaxes(categoryorder=\"total descending\")\n",
    "\n",
    "fig.show()"
   ]
  },
  {
   "cell_type": "code",
   "execution_count": null,
   "metadata": {},
   "outputs": [],
   "source": [
    "fig = px.histogram(\n",
    "    data_frame=cleaned_df,\n",
    "    x=\"PaymentMethod\",\n",
    "    color=\"Churn\",\n",
    "    title=\"Payment method distribution for <b>churning</b> and <b>non-churning</b> customers\",\n",
    "    histnorm=\"probability\",\n",
    ")\n",
    "\n",
    "fig.update_xaxes(categoryorder=\"total descending\")\n",
    "\n",
    "fig.show()"
   ]
  },
  {
   "cell_type": "markdown",
   "metadata": {},
   "source": [
    "Customers who use *Electronic check* payment method are more likely to stop using the service."
   ]
  },
  {
   "cell_type": "markdown",
   "metadata": {
    "heading_collapsed": "true"
   },
   "source": [
    "### `PaperlessBilling`"
   ]
  },
  {
   "cell_type": "markdown",
   "metadata": {},
   "source": [
    "Paperless billing is a way of receiving *bills* electronically, rather than with paper bills."
   ]
  },
  {
   "cell_type": "code",
   "execution_count": null,
   "metadata": {},
   "outputs": [],
   "source": [
    "fig = px.histogram(\n",
    "    data_frame=cleaned_df,\n",
    "    x=\"PaperlessBilling\",\n",
    "    color=\"Churn\",\n",
    "    color_discrete_map=color_map,\n",
    "    title=\"Paperless billing distribution for <b>churning</b> and <b>non-churning</b> customers\",\n",
    ")\n",
    "\n",
    "fig.show()"
   ]
  },
  {
   "cell_type": "markdown",
   "metadata": {},
   "source": [
    "We can see fron the chart that customers who use paperless billing have higher churning rate compared to customers who don't use this feature."
   ]
  },
  {
   "cell_type": "markdown",
   "metadata": {
    "heading_collapsed": "true"
   },
   "source": [
    "## Services attributes"
   ]
  },
  {
   "cell_type": "markdown",
   "metadata": {},
   "source": [
    "There are two main services: phone service and internet service.\n",
    "\n",
    "Phone service has only one additional service, the `MultipleLines` services.\n",
    "\n",
    "Internet services has several additional services:\n",
    "- `OnlineSecurity`\n",
    "- `OnlineBackup`\n",
    "- `DeviceProtection`\n",
    "- `TechSupport`\n",
    "- `StreamingTV`\n",
    "- `StreamingMovies`\n",
    "\n",
    "In this section, we'll focus on studying how different services contribute to the overall **customer satisfaction**, which will lead to either staying or leaving the company."
   ]
  },
  {
   "cell_type": "markdown",
   "metadata": {
    "heading_collapsed": "true"
   },
   "source": [
    "### `PhoneService`"
   ]
  },
  {
   "cell_type": "markdown",
   "metadata": {},
   "source": [
    "The `PhoneService` variable indicates whether the customer has a phone service or not."
   ]
  },
  {
   "cell_type": "code",
   "execution_count": null,
   "metadata": {},
   "outputs": [],
   "source": [
    "fig = px.histogram(\n",
    "    data_frame=cleaned_df,\n",
    "    x=\"PhoneService\",\n",
    "    color=\"Churn\",\n",
    "    color_discrete_map=color_map,\n",
    "    title=\"Phone service distribution for <b>churning</b> and <b>non-churning</b> customers\",\n",
    ")\n",
    "\n",
    "fig.update_xaxes(categoryorder=\"total descending\")\n",
    "\n",
    "fig.show()"
   ]
  },
  {
   "cell_type": "markdown",
   "metadata": {},
   "source": [
    "We can see that *almost* all customers have the phone service, which is understandable, because this is the *very minimum* service."
   ]
  },
  {
   "cell_type": "markdown",
   "metadata": {
    "heading_collapsed": "true"
   },
   "source": [
    "### `MultipleLines`"
   ]
  },
  {
   "cell_type": "markdown",
   "metadata": {},
   "source": [
    "The `MultipleLines` is an additional phone service, which indicates having multiple lines or not.\n",
    "\n",
    "Let's see if having this service would have any impact on leaving the company:"
   ]
  },
  {
   "cell_type": "code",
   "execution_count": null,
   "metadata": {},
   "outputs": [],
   "source": [
    "fig = px.histogram(\n",
    "    data_frame=cleaned_df,\n",
    "    x=\"MultipleLines\",\n",
    "    color=\"Churn\",\n",
    "    color_discrete_map=color_map,\n",
    "    title=\"Multiple lines distribution for <b>churning</b> and <b>non-churning</b> customers\",\n",
    ")\n",
    "\n",
    "fig.update_xaxes(categoryorder=\"total descending\")\n",
    "\n",
    "fig.show()"
   ]
  },
  {
   "cell_type": "markdown",
   "metadata": {},
   "source": [
    "We can see that this service has no influence on churning, since both customers who have the service and customers who don't are the same likely to churn.\n",
    "\n",
    "Now, let's show how the `MonthlyCharges` changes with respect to different values of `MultipleLines`, which would be helpful to understand how *costly* is this service?"
   ]
  },
  {
   "cell_type": "code",
   "execution_count": null,
   "metadata": {},
   "outputs": [],
   "source": [
    "fig = px.histogram(\n",
    "    data_frame=cleaned_df,\n",
    "    x=\"MonthlyCharges\",\n",
    "    color=\"MultipleLines\",\n",
    "    barmode=\"group\",\n",
    "    nbins=20,\n",
    "    facet_row=\"Churn\",\n",
    "    height=800,\n",
    "    title=\"Monthly charges distribution for different values of <i>multiple lines</i>\",\n",
    ")\n",
    "\n",
    "fig.show()"
   ]
  },
  {
   "cell_type": "markdown",
   "metadata": {},
   "source": [
    "Customer who have the multiple lines services tend to have higher monthly charges."
   ]
  },
  {
   "cell_type": "markdown",
   "metadata": {
    "heading_collapsed": "true"
   },
   "source": [
    "### `InternetService`"
   ]
  },
  {
   "cell_type": "markdown",
   "metadata": {},
   "source": [
    "The `InternetService` variable defines the type of internet service, which can be either `DSL`, `Fiber optic` or no service at all."
   ]
  },
  {
   "cell_type": "code",
   "execution_count": null,
   "metadata": {},
   "outputs": [],
   "source": [
    "fig = px.histogram(\n",
    "    data_frame=cleaned_df,\n",
    "    x=\"InternetService\",\n",
    "    color=\"Churn\",\n",
    "    title=\"Internet service distribution for <b>churning</b> and <b>non-churning</b> customers\",\n",
    ")\n",
    "\n",
    "fig.update_xaxes(categoryorder=\"total descending\")\n",
    "\n",
    "fig.show()"
   ]
  },
  {
   "cell_type": "markdown",
   "metadata": {},
   "source": [
    "The chart shows that a lot of customers choose the `Fiber optic` service, and it's also evident that the customers who use `Fiber optic` have high churn rate, this might suggest a *dissatisfaction* with this type of internet service.\n",
    "\n",
    "Let's see how the monthly charges distribution for the different types of internet service:"
   ]
  },
  {
   "cell_type": "code",
   "execution_count": null,
   "metadata": {},
   "outputs": [],
   "source": [
    "fig = px.histogram(\n",
    "    data_frame=cleaned_df,\n",
    "    x=\"MonthlyCharges\",\n",
    "    color=\"InternetService\",\n",
    "    barmode=\"group\",\n",
    "    facet_row=\"Churn\",\n",
    "    height=800,\n",
    "    nbins=20,\n",
    "    title='Potato'\n",
    ")\n",
    "\n",
    "fig.show()"
   ]
  },
  {
   "cell_type": "markdown",
   "metadata": {},
   "source": [
    "This chart shows that, on general, customers whoe are using the `Fiber optic` internet service are paying more monthly charges than customers who are using `DSL`, and of course higher than customer who don't use internet service at all.\n",
    "\n",
    "The chart also shows that among the customers who leave the company, the fiber optic users are the most common. This might be linked to somer characteristics of the fiber optic service: price, quality comapred with other companies, etc ..."
   ]
  },
  {
   "cell_type": "markdown",
   "metadata": {
    "heading_collapsed": "true"
   },
   "source": [
    "### other services"
   ]
  },
  {
   "cell_type": "markdown",
   "metadata": {},
   "source": [
    "Other internet services include:\n",
    "- `OnlineSecurity`\n",
    "- `OnlineBackup`\n",
    "- `DeviceProtection`\n",
    "- `TechSupport`\n",
    "- `StreamingTV`\n",
    "- `StreamingMovies`"
   ]
  },
  {
   "cell_type": "code",
   "execution_count": null,
   "metadata": {},
   "outputs": [],
   "source": [
    "internet_services_df = pd.melt(\n",
    "    frame=cleaned_df.loc[cleaned_df.InternetService != \"No\", internet_service_cols],\n",
    "    var_name=\"service\",\n",
    "    value_name=\"HasService\",\n",
    ")"
   ]
  },
  {
   "cell_type": "code",
   "execution_count": null,
   "metadata": {},
   "outputs": [],
   "source": [
    "internet_services_df.head()"
   ]
  },
  {
   "cell_type": "code",
   "execution_count": null,
   "metadata": {},
   "outputs": [],
   "source": [
    "fig = px.histogram(data_frame=internet_services_df, x=\"service\", color=\"HasService\")\n",
    "\n",
    "fig.show()"
   ]
  },
  {
   "cell_type": "markdown",
   "metadata": {
    "heading_collapsed": "true"
   },
   "source": [
    "# Focusing on recent customers"
   ]
  },
  {
   "cell_type": "markdown",
   "metadata": {},
   "source": [
    "We saw earlier from the `tenure` variable distribution that new customers (the ones that have been using the company's services for less than a year) are more likely to churn.\n",
    "\n",
    "In this section, we'll take a closer look at these customers, to understand their behavior and characteristics.\n",
    "\n",
    "The `tenure` variable is measured in number of months. so let's keep only the customers who stayed in the company for a 12 months (a year):"
   ]
  },
  {
   "cell_type": "code",
   "execution_count": null,
   "metadata": {},
   "outputs": [],
   "source": [
    "one_year_customers_df = cleaned_df[cleaned_df.tenure <= 12]"
   ]
  },
  {
   "cell_type": "code",
   "execution_count": null,
   "metadata": {},
   "outputs": [],
   "source": [
    "len(one_year_customers_df) / len(cleaned_df)"
   ]
  },
  {
   "cell_type": "markdown",
   "metadata": {},
   "source": [
    "30% of customers stayed in the company for a year."
   ]
  },
  {
   "cell_type": "markdown",
   "metadata": {
    "heading_collapsed": "true"
   },
   "source": [
    "## How many of recent customers did churn?"
   ]
  },
  {
   "cell_type": "code",
   "execution_count": null,
   "metadata": {},
   "outputs": [],
   "source": [
    "fig = px.histogram(\n",
    "    data_frame=one_year_customers_df,\n",
    "    x=\"Churn\",\n",
    "    color=\"Churn\",\n",
    "    color_discrete_map=color_map,\n",
    "    title=\"Churn distribution for new customers\",\n",
    ")\n",
    "\n",
    "fig.show()"
   ]
  },
  {
   "cell_type": "markdown",
   "metadata": {},
   "source": [
    "Almost half of the recent customers have churned."
   ]
  },
  {
   "cell_type": "markdown",
   "metadata": {
    "heading_collapsed": "true"
   },
   "source": [
    "## The monthly charges of recent customers:"
   ]
  },
  {
   "cell_type": "code",
   "execution_count": null,
   "metadata": {},
   "outputs": [],
   "source": [
    "fig = px.histogram(\n",
    "    data_frame=one_year_customers_df,\n",
    "    x=\"MonthlyCharges\",\n",
    "    color=\"Churn\",\n",
    "    color_discrete_map=color_map,\n",
    "    barmode=\"group\",\n",
    "    marginal=\"box\",\n",
    "    nbins=10,\n",
    "    title=\"Distribution of monthly charges for new customers\",\n",
    ")\n",
    "\n",
    "fig.show()"
   ]
  },
  {
   "cell_type": "markdown",
   "metadata": {},
   "source": [
    "The higher new customers pay per month, the more likely they churn from the company."
   ]
  },
  {
   "cell_type": "markdown",
   "metadata": {
    "heading_collapsed": "true"
   },
   "source": [
    "## What contract type did recent customers prefer?"
   ]
  },
  {
   "cell_type": "code",
   "execution_count": null,
   "metadata": {},
   "outputs": [],
   "source": [
    "fig = px.histogram(\n",
    "    data_frame=one_year_customers_df,\n",
    "    x=\"Contract\",\n",
    "    color=\"Churn\",\n",
    "    title=\"Contract type for new customers\",\n",
    ")\n",
    "\n",
    "fig.show()"
   ]
  },
  {
   "cell_type": "markdown",
   "metadata": {},
   "source": [
    "It seems that the `month-to-month` contract is the most prefered type of contract for new customers.\n",
    "\n",
    "We can also see customers who use this type of contract are more likely to churn."
   ]
  },
  {
   "cell_type": "markdown",
   "metadata": {
    "heading_collapsed": "true"
   },
   "source": [
    "## What type of services did recent customer use?"
   ]
  },
  {
   "cell_type": "markdown",
   "metadata": {},
   "source": [
    "In this section we'll investigate what type of services did recent customers choose to use, and the relation between different services and how much the customer pay per month.\n",
    "\n",
    "All that will help us identify any services that are more expensive compared to other services, or caused the customer any dissatisfaction, which leads them to churn from the company."
   ]
  },
  {
   "cell_type": "markdown",
   "metadata": {
    "heading_collapsed": "true"
   },
   "source": [
    "### `PhoneService`"
   ]
  },
  {
   "cell_type": "code",
   "execution_count": null,
   "metadata": {},
   "outputs": [],
   "source": [
    "one_year_customers_df.PhoneService.value_counts()"
   ]
  },
  {
   "cell_type": "code",
   "execution_count": null,
   "metadata": {},
   "outputs": [],
   "source": [
    "fig = px.histogram(\n",
    "    data_frame=one_year_customers_df,\n",
    "    x=\"PhoneService\",\n",
    "    color=\"Churn\",\n",
    "    color_discrete_map=color_map,\n",
    ")\n",
    "\n",
    "fig.update_xaxes(categoryorder=\"total descending\")\n",
    "\n",
    "fig.show()"
   ]
  },
  {
   "cell_type": "markdown",
   "metadata": {
    "heading_collapsed": "true"
   },
   "source": [
    "### `MultipleLines`"
   ]
  },
  {
   "cell_type": "code",
   "execution_count": null,
   "metadata": {},
   "outputs": [],
   "source": [
    "one_year_customers_df.MultipleLines.value_counts()"
   ]
  },
  {
   "cell_type": "code",
   "execution_count": null,
   "metadata": {},
   "outputs": [],
   "source": [
    "fig = px.histogram(\n",
    "    data_frame=one_year_customers_df,\n",
    "    x=\"MultipleLines\",\n",
    "    color=\"Churn\",\n",
    "    color_discrete_map=color_map,\n",
    ")\n",
    "\n",
    "fig.update_xaxes(categoryorder=\"total descending\")\n",
    "\n",
    "fig.show()"
   ]
  },
  {
   "cell_type": "markdown",
   "metadata": {
    "heading_collapsed": "true"
   },
   "source": [
    "### `InternetService`"
   ]
  },
  {
   "cell_type": "code",
   "execution_count": null,
   "metadata": {},
   "outputs": [],
   "source": [
    "one_year_customers_df.InternetService.value_counts()"
   ]
  },
  {
   "cell_type": "code",
   "execution_count": null,
   "metadata": {},
   "outputs": [],
   "source": [
    "fig = px.histogram(\n",
    "    data_frame=one_year_customers_df,\n",
    "    x=\"InternetService\",\n",
    "    color=\"Churn\",\n",
    "    color_discrete_map=color_map,\n",
    ")\n",
    "\n",
    "fig.update_xaxes(categoryorder=\"total descending\")\n",
    "\n",
    "fig.show()"
   ]
  },
  {
   "cell_type": "markdown",
   "metadata": {
    "heading_collapsed": "true"
   },
   "source": [
    "### other services"
   ]
  },
  {
   "cell_type": "code",
   "execution_count": null,
   "metadata": {},
   "outputs": [],
   "source": [
    "one_year_internet_services_df = pd.melt(\n",
    "    frame=one_year_customers_df.loc[\n",
    "        one_year_customers_df.InternetService != \"No\", internet_service_cols\n",
    "    ],\n",
    "    var_name=\"service\",\n",
    "    value_name=\"HasService\",\n",
    ")"
   ]
  },
  {
   "cell_type": "code",
   "execution_count": null,
   "metadata": {},
   "outputs": [],
   "source": [
    "one_year_internet_services_df.head()"
   ]
  },
  {
   "cell_type": "code",
   "execution_count": null,
   "metadata": {},
   "outputs": [],
   "source": [
    "fig = px.histogram(\n",
    "    data_frame=one_year_internet_services_df, x=\"service\", color=\"HasService\"\n",
    ")\n",
    "\n",
    "fig.show()"
   ]
  },
  {
   "cell_type": "markdown",
   "metadata": {
    "heading_collapsed": "true"
   },
   "source": [
    "# Conclusion"
   ]
  },
  {
   "cell_type": "code",
   "execution_count": null,
   "metadata": {},
   "outputs": [],
   "source": []
  }
 ],
 "metadata": {
  "kernelspec": {
   "display_name": "Python 3",
   "language": "python",
   "name": "python3"
  },
  "language_info": {
   "codemirror_mode": {
    "name": "ipython",
    "version": 3
   },
   "file_extension": ".py",
   "mimetype": "text/x-python",
   "name": "python",
   "nbconvert_exporter": "python",
   "pygments_lexer": "ipython3",
   "version": "3.8.3"
  },
  "toc-autonumbering": true,
  "toc-showcode": false,
  "toc-showmarkdowntxt": false,
  "toc-showtags": false
 },
 "nbformat": 4,
 "nbformat_minor": 4
}
